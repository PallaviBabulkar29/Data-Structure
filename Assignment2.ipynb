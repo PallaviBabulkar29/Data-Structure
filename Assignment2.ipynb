{
  "nbformat": 4,
  "nbformat_minor": 0,
  "metadata": {
    "colab": {
      "provenance": []
    },
    "kernelspec": {
      "name": "python3",
      "display_name": "Python 3"
    },
    "language_info": {
      "name": "python"
    }
  },
  "cells": [
    {
      "cell_type": "markdown",
      "source": [
        "#Theory questions\n",
        "1. P What are data structures, and why are they important\n",
        "- Data structures organize and store data efficiently. They are crucial for optimizing performance in searching, sorting, and manipulating data.\n",
        "\n",
        "2. Explain the difference between mutable and immutable data types with examples.\n",
        "- Ans:Mutable data types means that the type of the data can be changed after its creation and immutable data type means the data type which cannot be changed after its creation\n"
      ],
      "metadata": {
        "id": "LDojjf5X1_N9"
      }
    },
    {
      "cell_type": "code",
      "source": [
        "#for example mutable\n",
        "list = [1,2,3]\n",
        "list[1]=100\n",
        "print(list)"
      ],
      "metadata": {
        "id": "uMkzqNyQj8ic",
        "colab": {
          "base_uri": "https://localhost:8080/"
        },
        "outputId": "21bd7be2-0692-496e-d2ee-bf9d7ef26109"
      },
      "execution_count": null,
      "outputs": [
        {
          "output_type": "stream",
          "name": "stdout",
          "text": [
            "[1, 100, 3]\n"
          ]
        }
      ]
    },
    {
      "cell_type": "code",
      "source": [
        "#for example immutable\n",
        "tuple = (1,2,3)\n",
        "tuple[2]=100\n",
        "print(tuple) #will show error"
      ],
      "metadata": {
        "colab": {
          "base_uri": "https://localhost:8080/",
          "height": 193
        },
        "id": "aVDi8wus4Dh6",
        "outputId": "b6a24196-dc42-45c9-af2e-5fe43e4b5fda"
      },
      "execution_count": null,
      "outputs": [
        {
          "output_type": "error",
          "ename": "TypeError",
          "evalue": "'tuple' object does not support item assignment",
          "traceback": [
            "\u001b[0;31m---------------------------------------------------------------------------\u001b[0m",
            "\u001b[0;31mTypeError\u001b[0m                                 Traceback (most recent call last)",
            "\u001b[0;32m<ipython-input-2-dcc199128f81>\u001b[0m in \u001b[0;36m<cell line: 0>\u001b[0;34m()\u001b[0m\n\u001b[1;32m      1\u001b[0m \u001b[0;31m#for example immutable\u001b[0m\u001b[0;34m\u001b[0m\u001b[0;34m\u001b[0m\u001b[0m\n\u001b[1;32m      2\u001b[0m \u001b[0mtuple\u001b[0m \u001b[0;34m=\u001b[0m \u001b[0;34m(\u001b[0m\u001b[0;36m1\u001b[0m\u001b[0;34m,\u001b[0m\u001b[0;36m2\u001b[0m\u001b[0;34m,\u001b[0m\u001b[0;36m3\u001b[0m\u001b[0;34m)\u001b[0m\u001b[0;34m\u001b[0m\u001b[0;34m\u001b[0m\u001b[0m\n\u001b[0;32m----> 3\u001b[0;31m \u001b[0mtuple\u001b[0m\u001b[0;34m[\u001b[0m\u001b[0;36m2\u001b[0m\u001b[0;34m]\u001b[0m\u001b[0;34m=\u001b[0m\u001b[0;36m100\u001b[0m\u001b[0;34m\u001b[0m\u001b[0;34m\u001b[0m\u001b[0m\n\u001b[0m\u001b[1;32m      4\u001b[0m \u001b[0mprint\u001b[0m\u001b[0;34m(\u001b[0m\u001b[0mtuple\u001b[0m\u001b[0;34m)\u001b[0m\u001b[0;34m\u001b[0m\u001b[0;34m\u001b[0m\u001b[0m\n",
            "\u001b[0;31mTypeError\u001b[0m: 'tuple' object does not support item assignment"
          ]
        }
      ]
    },
    {
      "cell_type": "markdown",
      "source": [
        "3.What are the main differences between lists and tuples in Python.\n",
        "Ans: Main difference between list and tuple is that list is mutable and tuple is immutable.\n"
      ],
      "metadata": {
        "id": "zxHzHajG4Y7l"
      }
    },
    {
      "cell_type": "markdown",
      "source": [
        "4. Describe how dictionaries store data\n",
        "- Dictionaries store data as key-value pairs. Each key is hashed and mapped to a specific value.\n",
        "\n",
        "5. Why might you use a set instead of a list in Python?\n",
        "- Sets automatically remove duplicates and offer faster membership tests (in operator) than lists.\n",
        "\n",
        "6. What is a string in Python, and how is it different from a list?\n",
        "- A string is an immutable sequence of characters, while a list is mutable and can store any data type.\n",
        "\n",
        "7. How do tuples ensure data integrity in Python?\n",
        "- Since tuples are immutable, their contents can't be changed, making them safe for storing constant or fixed data.\n",
        "\n",
        "8. What is a hash table, and how does it relate to dictionaries in Python?\n",
        "- A hash table stores key-value pairs using a hash function. Python dictionaries are implemented using hash tables.\n",
        "\n",
        "9. Can lists contain different data types in Python?\n",
        "- Yes, Python lists are heterogeneous; they can contain mixed data types like integers, strings, and objects.\n",
        "\n",
        "10. Explain why strings are immutable in Python\n",
        "- Strings are immutable for memory efficiency and security. This ensures consistent behavior when shared across programs.\n",
        "\n",
        "11. What advantages do dictionaries offer over lists for certain tasks?\n",
        "- Dictionaries offer faster lookups using keys and are ideal for mapping, whereas lists require linear searches.\n",
        "\n",
        "12. Describe a scenario where using a tuple would be preferable over a list\n",
        "- Tuples are ideal when data shouldnt change, like coordinates, config settings, or database keys.\n",
        "\n",
        "13. How do sets handle duplicate values in Python?\n",
        "- Sets automatically discard duplicate values and store only unique elements.\n",
        "\n",
        "14. How does the “in” keyword work differently for lists and dictionaries?\n",
        "- In lists, in checks if an element exists. In dictionaries, it checks for the existence of a key only.\n",
        "\n",
        "15. Can you modify the elements of a tuple? Explain why or why not\n",
        "- No, tuples are immutable. Once created, their elements cannot be changed or reassigned.\n",
        "\n",
        "16. What is a nested dictionary, and give an example of its use case\n",
        "- A nested dictionary is a dictionary inside another.\n",
        "Example: students = {\"101\": {\"name\": \"A\", \"grade\": \"B\"}}\n",
        "\n",
        "17. Describe the time complexity of accessing elements in a dictionary\n",
        "- Accessing an element by key in a dictionary has average O(1) time complexity due to hashing.\n",
        "\n",
        "18. In what situations are lists preferred over dictionaries?\n",
        "- Use lists when order matters or when you need to store simple sequences without key-value relationships.\n",
        "\n",
        "19. Why are dictionaries considered unordered, and how does that affect data retrieval?\n",
        "- Older versions of Python (<3.7) didn’t maintain insertion order. Retrieval is based on keys, not order.\n",
        "\n",
        "20. Explain the difference between a list and a dictionary in terms of data retrieval.\n",
        "- Lists use index positions (e.g., list[0]), while dictionaries use keys (e.g., dict[\"name\"]) for data access."
      ],
      "metadata": {
        "id": "RZWZR0z64twX"
      }
    },
    {
      "cell_type": "markdown",
      "source": [
        "# Practical questions"
      ],
      "metadata": {
        "id": "WkP--h4yMbCz"
      }
    },
    {
      "cell_type": "code",
      "source": [
        "#1.Write a code to create a string with your name and print it\n",
        "name = \"Pallavi Babulkar\"\n",
        "print(name)"
      ],
      "metadata": {
        "id": "XUWq13PmMdht",
        "colab": {
          "base_uri": "https://localhost:8080/"
        },
        "outputId": "cb3bb7fb-fba7-4bb6-8449-f3bb4680656f"
      },
      "execution_count": null,
      "outputs": [
        {
          "output_type": "stream",
          "name": "stdout",
          "text": [
            "Pallavi Babulkar\n"
          ]
        }
      ]
    },
    {
      "cell_type": "code",
      "source": [
        "#2.Write a code to find the length of the string \"Hello World\"\n",
        "greet = \"Hello World\"\n",
        "print(len(greet))"
      ],
      "metadata": {
        "colab": {
          "base_uri": "https://localhost:8080/"
        },
        "id": "qfKWnQnxhpKr",
        "outputId": "8cead0e8-89ce-4ef7-ecb0-33f2050d647f"
      },
      "execution_count": null,
      "outputs": [
        {
          "output_type": "stream",
          "name": "stdout",
          "text": [
            "11\n"
          ]
        }
      ]
    },
    {
      "cell_type": "code",
      "source": [
        "#3.Write a code to slice the first 3 characters from the string \"Python Programming\n",
        "course = \"Python Programming\"\n",
        "print(course[0:3])"
      ],
      "metadata": {
        "colab": {
          "base_uri": "https://localhost:8080/"
        },
        "id": "93f0_Py_iDto",
        "outputId": "e9a8cf82-4130-4b2c-f72d-47eb9a196f63"
      },
      "execution_count": null,
      "outputs": [
        {
          "output_type": "stream",
          "name": "stdout",
          "text": [
            "Pyt\n"
          ]
        }
      ]
    },
    {
      "cell_type": "code",
      "source": [
        "#4.Write a code to convert the string \"hello\" to uppercase\n",
        "string1 = \"hello\"\n",
        "print(string1.upper())"
      ],
      "metadata": {
        "colab": {
          "base_uri": "https://localhost:8080/"
        },
        "id": "jxRXO_LmijMO",
        "outputId": "50f0394f-e225-4ed8-b822-eaa0fee316b1"
      },
      "execution_count": null,
      "outputs": [
        {
          "output_type": "stream",
          "name": "stdout",
          "text": [
            "HELLO\n"
          ]
        }
      ]
    },
    {
      "cell_type": "code",
      "source": [
        "#5.Write a code to replace the word \"apple\" with \"orange\" in the string \"I like apple\"\n",
        "string1 =\"I like apple\"\n",
        "print(string1.replace(\"apple\",\"orange\"))"
      ],
      "metadata": {
        "colab": {
          "base_uri": "https://localhost:8080/"
        },
        "id": "vVu0wv6Jiyhy",
        "outputId": "109ac8f4-ee70-480b-e5ad-6f91b7ae145c"
      },
      "execution_count": null,
      "outputs": [
        {
          "output_type": "stream",
          "name": "stdout",
          "text": [
            "I like orange\n"
          ]
        }
      ]
    },
    {
      "cell_type": "code",
      "source": [
        "#6.Write a code to create a list with numbers 1 to 5 and print it\n",
        "list1=[1,2,3,4,5]\n",
        "print(list1)"
      ],
      "metadata": {
        "colab": {
          "base_uri": "https://localhost:8080/"
        },
        "id": "yZcBEgpljCs6",
        "outputId": "e17c0fd2-8dab-4a75-e44d-a90850749e34"
      },
      "execution_count": null,
      "outputs": [
        {
          "output_type": "stream",
          "name": "stdout",
          "text": [
            "[1, 2, 3, 4, 5]\n"
          ]
        }
      ]
    },
    {
      "cell_type": "code",
      "source": [
        "#7.Write a code to append the number 10 to the list [1, 2, 3, 4].\n",
        "list1=[1,2,3,4]\n",
        "list1.append(10)\n",
        "print(list1)"
      ],
      "metadata": {
        "colab": {
          "base_uri": "https://localhost:8080/"
        },
        "id": "ehuI_blbjNBS",
        "outputId": "2aa0fb0f-b7a2-480c-f027-5c0d5f9ace8b"
      },
      "execution_count": null,
      "outputs": [
        {
          "output_type": "stream",
          "name": "stdout",
          "text": [
            "[1, 2, 3, 4, 10]\n"
          ]
        }
      ]
    },
    {
      "cell_type": "code",
      "source": [
        "#8.Write a code to remove the number 3 from the list [1, 2, 3, 4, 5]\n",
        "list1 =[1,2,3,4,5]\n",
        "list1.remove(3)\n",
        "print(list1)"
      ],
      "metadata": {
        "colab": {
          "base_uri": "https://localhost:8080/"
        },
        "id": "2urcHAvfjZ4l",
        "outputId": "68669ca7-46ef-445b-c907-54e94b4d8ab8"
      },
      "execution_count": null,
      "outputs": [
        {
          "output_type": "stream",
          "name": "stdout",
          "text": [
            "[1, 2, 4, 5]\n"
          ]
        }
      ]
    },
    {
      "cell_type": "code",
      "source": [
        "#9.Write a code to access the second element in the list ['a', 'b', 'c', 'd']\n",
        "list1=['a','b','c','d']\n",
        "print(list1[1])"
      ],
      "metadata": {
        "colab": {
          "base_uri": "https://localhost:8080/"
        },
        "id": "i77jbBEOj6tT",
        "outputId": "448b2d7a-ae7f-429f-a071-770d8079adb5"
      },
      "execution_count": null,
      "outputs": [
        {
          "output_type": "stream",
          "name": "stdout",
          "text": [
            "b\n"
          ]
        }
      ]
    },
    {
      "cell_type": "code",
      "source": [
        "#10.Write a code to reverse the list [10, 20, 30, 40, 50]\n",
        "list1=[10,20,30,40,50]\n",
        "list1.reverse()\n",
        "print(list1)"
      ],
      "metadata": {
        "colab": {
          "base_uri": "https://localhost:8080/"
        },
        "id": "uQ10sFEuktvp",
        "outputId": "47dfd42e-de2c-4302-ce1d-76ea1e6469b4"
      },
      "execution_count": null,
      "outputs": [
        {
          "output_type": "stream",
          "name": "stdout",
          "text": [
            "[50, 40, 30, 20, 10]\n"
          ]
        }
      ]
    },
    {
      "cell_type": "code",
      "source": [
        "#11. Write a code to create a tuple with the elements 100, 200, 300 and print it\n",
        "tuple1 = (100,200,300)\n",
        "print(tuple1)"
      ],
      "metadata": {
        "id": "_z7ZMr6wk-hF",
        "colab": {
          "base_uri": "https://localhost:8080/"
        },
        "outputId": "5e090099-d25b-4eb2-ddbb-92431bc3740c"
      },
      "execution_count": 1,
      "outputs": [
        {
          "output_type": "stream",
          "name": "stdout",
          "text": [
            "(100, 200, 300)\n"
          ]
        }
      ]
    },
    {
      "cell_type": "code",
      "source": [
        "#12.Write a code to access the second-to-last element of the tuple ('red', 'green', 'blue', 'yellow')\n",
        "a = ('red', 'green', 'blue', 'yellow')\n",
        "print(a[1:])"
      ],
      "metadata": {
        "colab": {
          "base_uri": "https://localhost:8080/"
        },
        "id": "_b3CdWDill6g",
        "outputId": "f1f939f9-7e0d-4d52-b832-60d9e66cccdc"
      },
      "execution_count": 7,
      "outputs": [
        {
          "output_type": "stream",
          "name": "stdout",
          "text": [
            "('green', 'blue', 'yellow')\n"
          ]
        }
      ]
    },
    {
      "cell_type": "code",
      "source": [
        "#13.Write a code to find the minimum number in the tuple (10, 20, 5, 15)\n",
        "a=(10,20,5,15)\n",
        "print(min(a))"
      ],
      "metadata": {
        "colab": {
          "base_uri": "https://localhost:8080/"
        },
        "id": "1XxQDlB-l_pJ",
        "outputId": "efa1cf5b-98e0-4466-abe6-2808c5f24660"
      },
      "execution_count": 9,
      "outputs": [
        {
          "output_type": "stream",
          "name": "stdout",
          "text": [
            "5\n"
          ]
        }
      ]
    },
    {
      "cell_type": "code",
      "source": [
        "#14. Write a code to find the index of the element \"cat\" in the tuple ('dog', 'cat', 'rabbit')\n",
        "a = ('dog', 'cat', 'rabbit')\n",
        "print(a.index('cat'))"
      ],
      "metadata": {
        "colab": {
          "base_uri": "https://localhost:8080/"
        },
        "id": "cDlldp5Jmper",
        "outputId": "826e0cd0-1d00-42bc-f3f3-65d2e8eb9258"
      },
      "execution_count": 10,
      "outputs": [
        {
          "output_type": "stream",
          "name": "stdout",
          "text": [
            "1\n"
          ]
        }
      ]
    },
    {
      "cell_type": "code",
      "source": [
        "#15.Write a code to create a tuple containing three different fruits and check if \"kiwi\" is in it\n",
        "a = ('apple','banana','orange','kiwi')\n",
        "print(\"kiwi\" in a)"
      ],
      "metadata": {
        "colab": {
          "base_uri": "https://localhost:8080/"
        },
        "id": "vPOyZxG4m7PT",
        "outputId": "cc92c1d0-ce7c-4a4b-acf4-286f84ad3ba1"
      },
      "execution_count": 12,
      "outputs": [
        {
          "output_type": "stream",
          "name": "stdout",
          "text": [
            "True\n"
          ]
        }
      ]
    },
    {
      "cell_type": "code",
      "source": [
        "#16.Write a code to create a set with the elements 'a', 'b', 'c' and print it\n",
        "a = {'a','b','c'}\n",
        "print(a)"
      ],
      "metadata": {
        "colab": {
          "base_uri": "https://localhost:8080/"
        },
        "id": "gGH2AGpNnOuW",
        "outputId": "26cf35ea-b401-43e0-eeea-c4cfde1372b4"
      },
      "execution_count": 13,
      "outputs": [
        {
          "output_type": "stream",
          "name": "stdout",
          "text": [
            "{'a', 'c', 'b'}\n"
          ]
        }
      ]
    },
    {
      "cell_type": "code",
      "source": [
        "#17. Write a code to clear all elements from the set {1, 2, 3, 4, 5}\n",
        "a = {1,2,3,4,5}\n",
        "a.clear()\n",
        "print(a)"
      ],
      "metadata": {
        "colab": {
          "base_uri": "https://localhost:8080/"
        },
        "id": "bvJsZjBRnfNY",
        "outputId": "078ab5dc-a8fb-4e14-f88c-baa3c483323e"
      },
      "execution_count": 17,
      "outputs": [
        {
          "output_type": "stream",
          "name": "stdout",
          "text": [
            "set()\n"
          ]
        }
      ]
    },
    {
      "cell_type": "code",
      "source": [
        "#18. Write a code to remove the element 4 from the set {1, 2, 3, 4}\n",
        "a = {1,2,3,4}\n",
        "a.remove(4)\n",
        "print(a)"
      ],
      "metadata": {
        "colab": {
          "base_uri": "https://localhost:8080/"
        },
        "id": "xP8P5f6Inrt0",
        "outputId": "2bf458b6-78e0-4425-b9d9-1677548c22fe"
      },
      "execution_count": 21,
      "outputs": [
        {
          "output_type": "stream",
          "name": "stdout",
          "text": [
            "{1, 2, 3}\n"
          ]
        }
      ]
    },
    {
      "cell_type": "code",
      "source": [
        "#19. Write a code to find the union of two sets {1, 2, 3} and {3, 4, 5}\n",
        "a = {1,2,3}\n",
        "b = {3,4,5}\n",
        "c = a.union(b)\n",
        "print(c)"
      ],
      "metadata": {
        "colab": {
          "base_uri": "https://localhost:8080/"
        },
        "id": "u_k-V7g-oGot",
        "outputId": "a710cfee-476e-48a8-9cd4-b131ee40faeb"
      },
      "execution_count": 22,
      "outputs": [
        {
          "output_type": "stream",
          "name": "stdout",
          "text": [
            "{1, 2, 3, 4, 5}\n"
          ]
        }
      ]
    },
    {
      "cell_type": "code",
      "source": [
        "#20.Write a code to find the intersection of two sets {1, 2, 3} and {2, 3, 4}.\n",
        "a ={1,2,3}\n",
        "b={2,3,4}\n",
        "c = a.intersection(b)\n",
        "print(c)"
      ],
      "metadata": {
        "colab": {
          "base_uri": "https://localhost:8080/"
        },
        "id": "Hr-AwqauolyK",
        "outputId": "b10bcd22-4561-4526-e818-9f4b11f74372"
      },
      "execution_count": 23,
      "outputs": [
        {
          "output_type": "stream",
          "name": "stdout",
          "text": [
            "{2, 3}\n"
          ]
        }
      ]
    },
    {
      "cell_type": "code",
      "source": [
        "#21.Write a code to create a dictionary with the keys \"name\", \"age\", and \"city\", and print it\n",
        "info = {\"name\",\"age\",\"city\"}\n",
        "print(info)"
      ],
      "metadata": {
        "colab": {
          "base_uri": "https://localhost:8080/"
        },
        "id": "iHSDihhHozip",
        "outputId": "b643138d-4713-4bbd-b867-4b578f6b3e2e"
      },
      "execution_count": 24,
      "outputs": [
        {
          "output_type": "stream",
          "name": "stdout",
          "text": [
            "{'city', 'name', 'age'}\n"
          ]
        }
      ]
    },
    {
      "cell_type": "code",
      "source": [
        "#22. Write a code to add a new key-value pair \"country\": \"USA\" to the dictionary {'name': 'John', 'age': 25}.\n",
        "info = {'name':'john','age':25}\n",
        "info[\"country\"]=\"usa\"\n",
        "print(info)"
      ],
      "metadata": {
        "colab": {
          "base_uri": "https://localhost:8080/"
        },
        "id": "F5Xo6ZiHqxsE",
        "outputId": "d661b8fe-4309-43d4-c066-c39883c73f53"
      },
      "execution_count": 29,
      "outputs": [
        {
          "output_type": "stream",
          "name": "stdout",
          "text": [
            "{'name': 'john', 'age': 25, 'country': 'usa'}\n"
          ]
        }
      ]
    },
    {
      "cell_type": "code",
      "source": [
        "#23. Write a code to access the value associated with the key \"name\" in the dictionary {'name': 'Alice', 'age': 30}.\n",
        "info = {'name':'Alice','age':30}\n",
        "print(info['name'])"
      ],
      "metadata": {
        "colab": {
          "base_uri": "https://localhost:8080/"
        },
        "id": "a3BfmMCVrJ4f",
        "outputId": "294d1927-adec-4c05-edb7-e5a2896c5923"
      },
      "execution_count": 30,
      "outputs": [
        {
          "output_type": "stream",
          "name": "stdout",
          "text": [
            "Alice\n"
          ]
        }
      ]
    },
    {
      "cell_type": "code",
      "source": [
        "#24.Write a code to remove the key \"age\" from the dictionary {'name': 'Bob', 'age': 22, 'city': 'New York'}\n",
        "info={'name':'bov','age':22,'city':'New York'}\n",
        "del info[\"age\"]\n",
        "print(info)"
      ],
      "metadata": {
        "colab": {
          "base_uri": "https://localhost:8080/"
        },
        "id": "h9DLDIQTr0TK",
        "outputId": "998cb9fa-7d55-45e3-80b3-4e97b9bdc842"
      },
      "execution_count": 34,
      "outputs": [
        {
          "output_type": "stream",
          "name": "stdout",
          "text": [
            "{'name': 'bov', 'city': 'New York'}\n"
          ]
        }
      ]
    },
    {
      "cell_type": "code",
      "source": [
        "#25. Write a code to check if the key \"city\" exists in the dictionary {'name': 'Alice', 'city': 'Paris'}\n",
        "info = {'name':'Alice','city':'Paris'}\n",
        "print(\"city\" in info)"
      ],
      "metadata": {
        "colab": {
          "base_uri": "https://localhost:8080/"
        },
        "id": "iAehI4PesR4z",
        "outputId": "48164094-64d4-4738-ec2a-e67570bddc41"
      },
      "execution_count": 35,
      "outputs": [
        {
          "output_type": "stream",
          "name": "stdout",
          "text": [
            "True\n"
          ]
        }
      ]
    },
    {
      "cell_type": "code",
      "source": [
        "#26.Write a code to create a list, a tuple, and a dictionary, and print them all\n",
        "list1 = [1,2,3]\n",
        "tuple1 = (4,5,6)\n",
        "dic ={'a':1,'b':2,'c':3}\n",
        "print(list1)\n",
        "print(tuple1)\n",
        "print(dic)"
      ],
      "metadata": {
        "colab": {
          "base_uri": "https://localhost:8080/"
        },
        "id": "GTAf45Wss6HQ",
        "outputId": "9fcf2998-23c7-443b-f935-430209b00208"
      },
      "execution_count": 36,
      "outputs": [
        {
          "output_type": "stream",
          "name": "stdout",
          "text": [
            "[1, 2, 3]\n",
            "(4, 5, 6)\n",
            "{'a': 1, 'b': 2, 'c': 3}\n"
          ]
        }
      ]
    },
    {
      "cell_type": "code",
      "source": [
        "#27.Write a code to create a list of 5 random numbers between 1 and 100, sort it in ascending order, and print the\n",
        "#result.(replaced)\n",
        "list1 = [1,21,42,65,43]\n",
        "list1.sort()\n",
        "print(list1)\n",
        "\n"
      ],
      "metadata": {
        "colab": {
          "base_uri": "https://localhost:8080/"
        },
        "id": "pA3N9E2KtYWb",
        "outputId": "941834ee-e7ec-4d2c-d28d-7028760a42ea"
      },
      "execution_count": 37,
      "outputs": [
        {
          "output_type": "stream",
          "name": "stdout",
          "text": [
            "[1, 21, 42, 43, 65]\n"
          ]
        }
      ]
    },
    {
      "cell_type": "code",
      "source": [
        "#28.Write a code to create a list with strings and print the element at the third index\n",
        "list1 = ['cat','dog','cow','sheep']\n",
        "print(list1[2])"
      ],
      "metadata": {
        "colab": {
          "base_uri": "https://localhost:8080/"
        },
        "id": "FtXWSzVItylu",
        "outputId": "4f080424-37fd-4e9c-f97e-af21e51aa230"
      },
      "execution_count": 38,
      "outputs": [
        {
          "output_type": "stream",
          "name": "stdout",
          "text": [
            "cow\n"
          ]
        }
      ]
    },
    {
      "cell_type": "code",
      "source": [
        "#29. Write a code to combine two dictionaries into one and print the result.\n",
        "dic1 = {'a':1,'b':2}\n",
        "dic2 = {'c':3,'d':4}\n",
        "dic1.update(dic2)\n",
        "print(dic1)"
      ],
      "metadata": {
        "colab": {
          "base_uri": "https://localhost:8080/"
        },
        "id": "Mnhxzy-2uSSk",
        "outputId": "d9c1a270-372d-4b2d-d1e1-d345fb3df068"
      },
      "execution_count": 39,
      "outputs": [
        {
          "output_type": "stream",
          "name": "stdout",
          "text": [
            "{'a': 1, 'b': 2, 'c': 3, 'd': 4}\n"
          ]
        }
      ]
    },
    {
      "cell_type": "code",
      "source": [
        "#30. Write a code to convert a list of strings into a set.\n",
        "list1 = ['apple','mango','banana']\n",
        "set1 = set(list1)\n",
        "print(set1)"
      ],
      "metadata": {
        "colab": {
          "base_uri": "https://localhost:8080/"
        },
        "id": "ly6tgMcnuhV1",
        "outputId": "850c94bf-cf96-41d8-f062-4636026ffccc"
      },
      "execution_count": 40,
      "outputs": [
        {
          "output_type": "stream",
          "name": "stdout",
          "text": [
            "{'apple', 'banana', 'mango'}\n"
          ]
        }
      ]
    },
    {
      "cell_type": "code",
      "source": [],
      "metadata": {
        "id": "2C6AeTOSvFFI"
      },
      "execution_count": null,
      "outputs": []
    }
  ]
}